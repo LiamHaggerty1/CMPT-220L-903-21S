{
 "cells": [
  {
   "cell_type": "markdown",
   "metadata": {},
   "source": [
    "# Lab Five\n",
    "---\n",
    "\n",
    "For this lab we're going to be messing around with our Linear Data Types!\n",
    "\n",
    "Our Goals are:\n",
    "- Creating an Array\n",
    "- Creating an ArrayList\n",
    "- Creating an LinkedList\n",
    "- Creating an Queue\n",
    "- Creating an Stack \n",
    "\n",
    "Please show the ability to:\n",
    "- Create these data types\n",
    "- Populate the data types\n",
    "- Print out the Linear Data Types"
   ]
  },
  {
   "cell_type": "code",
   "execution_count": 36,
   "metadata": {},
   "outputs": [
    {
     "name": "stdout",
     "output_type": "stream",
     "text": [
      "blue\n"
     ]
    }
   ],
   "source": [
    "// Create an Array, Populate it, and Print it out\n",
    "String[] colors = {\"blue\", \"red\", \"green\", \"yellow\"};\n",
    "System.out.println(colors[0]);"
   ]
  },
  {
   "cell_type": "code",
   "execution_count": 42,
   "metadata": {},
   "outputs": [
    {
     "name": "stdout",
     "output_type": "stream",
     "text": [
      "[blue, red, green, yellow]\n"
     ]
    }
   ],
   "source": [
    "// Create an ArrayList, Populate it, and Print it out\n",
    "import java.util.ArrayList;\n",
    "\n",
    "ArrayList<String> colors = new ArrayList<String>();\n",
    "\n",
    "colors.add(\"blue\");\n",
    "colors.add(\"red\");\n",
    "colors.add(\"green\");\n",
    "colors.add(\"yellow\");\n",
    "\n",
    "System.out.println(colors);"
   ]
  },
  {
   "cell_type": "code",
   "execution_count": 43,
   "metadata": {},
   "outputs": [
    {
     "name": "stdout",
     "output_type": "stream",
     "text": [
      "[blue, red, green, yellow]\n"
     ]
    }
   ],
   "source": [
    "// Create an LinkedList, Populate it, and Print it out\n",
    "import java.util.LinkedList;\n",
    "\n",
    "LinkedList<String> colors = new LinkedList<String>();\n",
    "colors.add(\"blue\");\n",
    "colors.add(\"red\");\n",
    "colors.add(\"green\");\n",
    "colors.add(\"yellow\");\n",
    "\n",
    "System.out.println(colors);"
   ]
  },
  {
   "cell_type": "code",
   "execution_count": 45,
   "metadata": {},
   "outputs": [
    {
     "name": "stdout",
     "output_type": "stream",
     "text": [
      "[blue, red, green, yellow]\n"
     ]
    }
   ],
   "source": [
    "// Create an Queue, Populate it, and Print it out\n",
    "import java.util.*;\n",
    "\n",
    "Queue<String> colors = new PriorityQueue<>();\n",
    "colors.add(\"blue\");\n",
    "colors.add(\"red\");\n",
    "colors.add(\"green\");\n",
    "colors.add(\"yellow\");\n",
    "  \n",
    "System.out.println(colors);"
   ]
  },
  {
   "cell_type": "code",
   "execution_count": 49,
   "metadata": {},
   "outputs": [
    {
     "name": "stdout",
     "output_type": "stream",
     "text": [
      "[blue, red, green, yellow]\n"
     ]
    }
   ],
   "source": [
    "// Create an Stack, Populate it, and Print it out\n",
    "import java.util.*;\n",
    "import java.io.*;\n",
    "\n",
    "Stack<String> colors = new Stack<String>();\n",
    "colors.push(\"blue\");\n",
    "colors.push(\"red\");\n",
    "colors.push(\"green\");\n",
    "colors.push(\"yellow\");\n",
    "\n",
    "System.out.println(colors);"
   ]
  }
 ],
 "metadata": {
  "kernelspec": {
   "display_name": "Java",
   "language": "java",
   "name": "java"
  },
  "language_info": {
   "codemirror_mode": "java",
   "file_extension": ".jshell",
   "mimetype": "text/x-java-source",
   "name": "Java",
   "pygments_lexer": "java",
   "version": "15.0.2+7-27"
  },
  "orig_nbformat": 2
 },
 "nbformat": 4,
 "nbformat_minor": 2
}