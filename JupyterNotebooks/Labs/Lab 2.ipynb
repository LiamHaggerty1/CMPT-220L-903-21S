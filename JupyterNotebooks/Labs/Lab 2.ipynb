{
 "cells": [
  {
   "cell_type": "markdown",
   "metadata": {},
   "source": [
    "# Lab Two\n",
    "---\n",
    "\n",
    "Ok for this lab we're going to reiterate a lot of the things that we went over in class.\n",
    "\n",
    "Our Goals are:\n",
    "- Conditionals\n",
    "    - If\n",
    "    - Else\n",
    "    - Else If"
   ]
  },
  {
   "cell_type": "code",
   "execution_count": 9,
   "metadata": {},
   "outputs": [
    {
     "name": "stdout",
     "output_type": "stream",
     "text": [
      "Is 10 greater than 5?\n",
      "True\n"
     ]
    }
   ],
   "source": [
    "// Make an if statement\n",
    "System.out.println(\"Is 10 greater than 5?\");\n",
    "\n",
    "if (5 < 10) {\n",
    "    System.out.println(\"True\");\n",
    "}\n"
   ]
  },
  {
   "cell_type": "code",
   "execution_count": 10,
   "metadata": {},
   "outputs": [
    {
     "name": "stdout",
     "output_type": "stream",
     "text": [
      "Is 5 greater than 10?\n",
      "False\n"
     ]
    }
   ],
   "source": [
    "// Make an if, else statement where the else statement triggers\n",
    "System.out.println(\"Is 5 greater than 10?\");\n",
    "\n",
    "if (5 > 10) {\n",
    "    System.out.println(\"Yes it is\");\n",
    "}\n",
    "else {\n",
    "    System.out.println(\"No, it is not\");\n",
    "}"
   ]
  },
  {
   "cell_type": "code",
   "execution_count": 12,
   "metadata": {},
   "outputs": [
    {
     "name": "stdout",
     "output_type": "stream",
     "text": [
      "Is 5 equal to 5?\n",
      "Yes, it is\n"
     ]
    }
   ],
   "source": [
    "// Make an if, else if, else statement where the else if statement triggers\n",
    "System.out.println(\"Is 5 equal to 5?\");\n",
    "\n",
    "if (5 < 10) {\n",
    "    System.out.println(\"Yes, it is\");\n",
    "}\n",
    "else if (5 == 5) {\n",
    "    System.out.println(\"Yes, it is\");\n",
    "}\n",
    "else {\n",
    "    System.out.println(\"No it is not\");\n",
    "}"
   ]
  },
  {
   "cell_type": "code",
   "execution_count": 14,
   "metadata": {},
   "outputs": [
    {
     "name": "stdout",
     "output_type": "stream",
     "text": [
      "Which number is greater? 5 or 10?\n",
      "10 is greater\n"
     ]
    }
   ],
   "source": [
    "// Make 2 variables and use them in an if else conditional\n",
    "int x = 5;\n",
    "int y = 10;\n",
    "System.out.println(\"Which number is greater? 5 or 10?\");\n",
    "\n",
    "if (x > y) {\n",
    "    System.out.println(\"5 is greater\");\n",
    "}\n",
    "else {\n",
    "    System.out.println(\"10 is greater\");\n",
    "}"
   ]
  },
  {
   "cell_type": "code",
   "execution_count": null,
   "metadata": {},
   "outputs": [],
   "source": [
    "// Make an if statement using 2 variables and an AND(&&) statement\n"
   ]
  },
  {
   "cell_type": "code",
   "execution_count": null,
   "metadata": {},
   "outputs": [],
   "source": [
    "// Make an if statement using 2 variables and an OR(||) statement"
   ]
  }
 ],
 "metadata": {
  "kernelspec": {
   "display_name": "Java",
   "language": "java",
   "name": "java"
  },
  "language_info": {
   "codemirror_mode": "java",
   "file_extension": ".jshell",
   "mimetype": "text/x-java-source",
   "name": "Java",
   "pygments_lexer": "java",
   "version": "15.0.2+7-27"
  },
  "orig_nbformat": 2
 },
 "nbformat": 4,
 "nbformat_minor": 2
}